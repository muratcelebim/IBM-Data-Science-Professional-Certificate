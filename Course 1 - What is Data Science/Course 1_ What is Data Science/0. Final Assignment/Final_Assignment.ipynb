{
  "nbformat": 4,
  "nbformat_minor": 0,
  "metadata": {
    "colab": {
      "provenance": [],
      "collapsed_sections": [
        "guyHW3HhJ0FS",
        "L8-XZ7wVKlCX",
        "UVnTJ9__KlPP"
      ]
    },
    "kernelspec": {
      "name": "python3",
      "display_name": "Python 3"
    },
    "language_info": {
      "name": "python"
    }
  },
  "cells": [
    {
      "cell_type": "markdown",
      "source": [
        "In this Assignment, you will demonstrate your understanding of the videos and the readings by answering open-ended questions, defining data science and data scientist, and describing the different sections comprising a final deliverable of a data science project. Please note that this assignment is worth 10% of your final grade.\n",
        "\n",
        "Review criteria\n",
        "\n",
        "\n",
        "---\n",
        "\n",
        "\n",
        "\n",
        "This assignment will be graded by your peers who are also completing this course during the same session.\n",
        "\n",
        "There are a total of 10 points possible for this final project.\n",
        "\n",
        "Below is the breakdown of possible points:\n",
        "\n",
        "Problem 1:  3 points\n",
        "\n",
        "Problem 2:  2 points\n",
        "\n",
        "Problem 3:  5 points"
      ],
      "metadata": {
        "id": "MZrOI_r1JciV"
      }
    },
    {
      "cell_type": "markdown",
      "source": [
        "# **Problem 1**"
      ],
      "metadata": {
        "id": "guyHW3HhJ0FS"
      }
    },
    {
      "cell_type": "markdown",
      "source": [
        "Based on the videos and the reading material, how would you define a data scientist and data science? (3 marks)"
      ],
      "metadata": {
        "id": "yKG1KT5iM6bw"
      }
    },
    {
      "cell_type": "markdown",
      "source": [
        "Data science is a long-winded process. Collecting, storing, analyzing data, then correcting outliers and deficiencies in the data. Then model building using Machine Learning algorithms. Finally, this project is reported and transferred to the relevant units."
      ],
      "metadata": {
        "id": "KWI-ZAfrM87X"
      }
    },
    {
      "cell_type": "markdown",
      "source": [
        "# **Problem 2**"
      ],
      "metadata": {
        "id": "L8-XZ7wVKlCX"
      }
    },
    {
      "cell_type": "markdown",
      "source": [
        "As discussed in the videos and the reading material, data science can be applied to problems across different industries. Give a brief explanation describing what industry  you are passionate about and would like to pursue a data science career in? (2 marks)"
      ],
      "metadata": {
        "id": "7cShjOu5M_FH"
      }
    },
    {
      "cell_type": "markdown",
      "source": [
        "As a data scientist, I am passionate about the healthcare industry. For example, it was very flattering for me to guess whether a person has diabetes or not. I am also very happy to find helpful findings about the health of that person by analyzing the MRI images."
      ],
      "metadata": {
        "id": "pNgv_M_jNCy6"
      }
    },
    {
      "cell_type": "markdown",
      "source": [
        "# **Problem 3**"
      ],
      "metadata": {
        "id": "UVnTJ9__KlPP"
      }
    },
    {
      "cell_type": "markdown",
      "source": [
        "Based on the videos and the reading material, what are the ten main components of a report that would be delivered at the end of a data science project? (5 marks)"
      ],
      "metadata": {
        "id": "Lm2l7JC-NE3M"
      }
    },
    {
      "cell_type": "markdown",
      "source": [
        "Components of the report: Cover, table of contents, summary, reference, acknowledgment, conclusion, discussion, appendices, control."
      ],
      "metadata": {
        "id": "m3mOCsp7NEzN"
      }
    }
  ]
}